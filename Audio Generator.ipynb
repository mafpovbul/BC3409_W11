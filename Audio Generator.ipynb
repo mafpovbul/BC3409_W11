{
 "cells": [
  {
   "cell_type": "code",
   "execution_count": 1,
   "metadata": {},
   "outputs": [
    {
     "name": "stdout",
     "output_type": "stream",
     "text": [
      "Please enter the song : dog\n"
     ]
    },
    {
     "data": {
      "text/html": [
       "<audio src=https://replicate.delivery/pbxt/XMVQj41EH6ZfOSUjNdryURiBpeAdVMe5A4UL2XiBx4fCJmeUC/out.wav type=\"audio\" controls>"
      ],
      "text/plain": [
       "<IPython.core.display.HTML object>"
      ]
     },
     "execution_count": 1,
     "metadata": {},
     "output_type": "execute_result"
    }
   ],
   "source": [
    "import replicate\n",
    "import os\n",
    "\n",
    "os.environ[\"REPLICATE_API_TOKEN\"]=\"r8_Gxanu3oPoqGsCJfry4o9OEe8858SQRI1iWYE8\"\n",
    "\n",
    "q = input(\"Please enter the song : \")\n",
    "\n",
    "r = replicate.run(    \"meta/musicgen:671ac645ce5e552cc63a54a2bbff63fcf798043055d2dac5fc9e36a837eedcfb\",\n",
    "    input={\n",
    "    \"prompt\": q,\n",
    "    \"duration\": 5,\n",
    "    }\n",
    ")\n",
    "from IPython.display import HTML\n",
    "HTML(f\"\"\"<audio src={r} type=\"audio\" controls>\"\"\")"
   ]
  }
 ],
 "metadata": {
  "kernelspec": {
   "display_name": "Python 3 (ipykernel)",
   "language": "python",
   "name": "python3"
  },
  "language_info": {
   "codemirror_mode": {
    "name": "ipython",
    "version": 3
   },
   "file_extension": ".py",
   "mimetype": "text/x-python",
   "name": "python",
   "nbconvert_exporter": "python",
   "pygments_lexer": "ipython3",
   "version": "3.8.3"
  }
 },
 "nbformat": 4,
 "nbformat_minor": 4
}
