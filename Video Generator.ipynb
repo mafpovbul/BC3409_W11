{
 "cells": [
  {
   "cell_type": "code",
   "execution_count": 2,
   "metadata": {},
   "outputs": [
    {
     "name": "stdout",
     "output_type": "stream",
     "text": [
      "video : dog\n"
     ]
    },
    {
     "data": {
      "text/html": [
       "<video src=https://replicate.delivery/pbxt/hxpyXlrXB25fFqo6kVMYa10s3WjAS7OhiDZhFMT5CXMwy0TJA/output-0.mp4 width=\"320\" height=\"240\"controls/>"
      ],
      "text/plain": [
       "<IPython.core.display.HTML object>"
      ]
     },
     "execution_count": 2,
     "metadata": {},
     "output_type": "execute_result"
    }
   ],
   "source": [
    "import replicate\n",
    "import os\n",
    "os.environ[\"REPLICATE_API_TOKEN\"]=\"r8_Gxanu3oPoqGsCJfry4o9OEe8858SQRI1iWYE8\"\n",
    "\n",
    "q = input(\"video : \")\n",
    "r = replicate.run(\n",
    "    \"anotherjesse/zeroscope-v2-xl:9f747673945c62801b13b84701c783929c0ee784e4748ec062204894dda1a351\",\n",
    "    input={\n",
    "    \"prompt\": q,\n",
    "    \"num_frames\": 20,\n",
    "    }\n",
    ")\n",
    "\n",
    "from IPython.display import HTML\n",
    "HTML(f\"\"\"<video src={r[0]} width=\"320\" height=\"240\"controls/>\"\"\")"
   ]
  }
 ],
 "metadata": {
  "kernelspec": {
   "display_name": "Python 3 (ipykernel)",
   "language": "python",
   "name": "python3"
  },
  "language_info": {
   "codemirror_mode": {
    "name": "ipython",
    "version": 3
   },
   "file_extension": ".py",
   "mimetype": "text/x-python",
   "name": "python",
   "nbconvert_exporter": "python",
   "pygments_lexer": "ipython3",
   "version": "3.8.3"
  }
 },
 "nbformat": 4,
 "nbformat_minor": 4
}
